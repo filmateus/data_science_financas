{
 "cells": [
  {
   "cell_type": "markdown",
   "metadata": {},
   "source": [
    "# Taxa de risco"
   ]
  },
  {
   "cell_type": "code",
   "execution_count": 58,
   "metadata": {},
   "outputs": [],
   "source": [
    "# Data Handling and Analysis\n",
    "import math\n",
    "import yfinance as yf\n",
    "import pandas as pd\n",
    "import numpy as np\n",
    "from datetime import date, timedelta\n",
    "from scipy import stats \n",
    "\n",
    "# Plotting and Visualization\n",
    "import matplotlib.pyplot as plt\n",
    "import seaborn as sns\n",
    "\n",
    "# Configurations\n",
    "import warnings\n",
    "warnings.filterwarnings(\"ignore\")\n",
    "\n",
    "# Configuração dos gráficos\n",
    "from matplotlib import rc\n",
    "\n",
    "# Estilo dos gráficos\n",
    "# Referência: https://matplotlib.org/stable/gallery/style_sheets/style_sheets_reference.html\n",
    "plt.style.use('Solarize_Light2')\n",
    "%config InlineBackend.figure_format = 'retina'  # Formato das imagens\n",
    "\n",
    "# Configurações de fontes\n",
    "rc('font', **{\"family\":\"sans-serif\",\"sans-serif\":[\"DejaVu Sans\"], \"size\":9})\n",
    "rc('mathtext', **{\"default\":\"regular\"})\n",
    "\n",
    "%matplotlib inline"
   ]
  },
  {
   "cell_type": "code",
   "execution_count": 19,
   "metadata": {},
   "outputs": [
    {
     "name": "stderr",
     "output_type": "stream",
     "text": [
      "[*********************100%***********************]  1 of 1 completed\n",
      "[*********************100%***********************]  1 of 1 completed\n",
      "[*********************100%***********************]  1 of 1 completed\n",
      "[*********************100%***********************]  1 of 1 completed\n",
      "[*********************100%***********************]  1 of 1 completed\n",
      "[*********************100%***********************]  1 of 1 completed\n"
     ]
    }
   ],
   "source": [
    "# Define the date range\n",
    "start_date = date.today() - timedelta(days=1825)\n",
    "end_date = date.today()\n",
    "\n",
    "# List of stocks and corresponding company names\n",
    "stocks = ['POMO4.SA', 'WEGE3.SA', 'PETR4.SA', 'BTLG11.SA', 'MGLU3.SA', 'B3SA3.SA']\n",
    "company_names = [\"Marcopolo\", \"Weg\", \"Petrobras\", \"BTG logística\",\"Magalu\", \"Bovespa\"]\n",
    "coluns = company_names.copy()\n",
    "\n",
    "# Initialize a dictionary to store different types of price data\n",
    "price_data_dict = {key: [] for key in ['Adj Close', 'Close', 'High', 'Low', 'Open', 'Volume']}\n",
    "\n",
    "def merge_dataframes(data_list):\n",
    "    \"\"\"Merge a list of DataFrames on the 'Date' column.\"\"\"\n",
    "    if not data_list:\n",
    "        return None\n",
    "    \n",
    "    merged_df = data_list[0]\n",
    "    if isinstance(merged_df.columns, pd.MultiIndex):\n",
    "        merged_df.columns = merged_df.columns.get_level_values(0)\n",
    "\n",
    "    for df in data_list[1:]:\n",
    "        if isinstance(df.columns, pd.MultiIndex):\n",
    "            df.columns = df.columns.get_level_values(0)\n",
    "        merged_df = pd.merge(merged_df, df, on='Date', how='outer')\n",
    "    \n",
    "    return merged_df\n",
    "\n",
    "def download_and_prepare_stock_data(stock_symbol, company_name):\n",
    "    \"\"\"Download stock data and prepare it for processing.\"\"\"\n",
    "    stock_data = yf.download(stock_symbol, start=start_date, end=end_date).reset_index()\n",
    "    \n",
    "    for price_type in price_data_dict:\n",
    "        if price_type in stock_data.columns:\n",
    "            price_df = stock_data[['Date', price_type]].rename(columns={price_type: company_name})\n",
    "            price_data_dict[price_type].append(price_df)\n",
    "\n",
    "# Download and prepare data for each stock\n",
    "for stock_symbol, company_name in zip(stocks, company_names):\n",
    "    download_and_prepare_stock_data(stock_symbol, company_name)\n",
    "\n",
    "# Combine all price type dataframes\n",
    "df_adj_close = merge_dataframes(price_data_dict['Adj Close'])\n",
    "df_close = merge_dataframes(price_data_dict['Close'])\n",
    "df_high = merge_dataframes(price_data_dict['High'])\n",
    "df_low = merge_dataframes(price_data_dict['Low'])\n",
    "df_open = merge_dataframes(price_data_dict['Open'])\n",
    "df_volume = merge_dataframes(price_data_dict['Volume'])"
   ]
  },
  {
   "cell_type": "code",
   "execution_count": 20,
   "metadata": {},
   "outputs": [
    {
     "data": {
      "text/html": [
       "<div>\n",
       "<style scoped>\n",
       "    .dataframe tbody tr th:only-of-type {\n",
       "        vertical-align: middle;\n",
       "    }\n",
       "\n",
       "    .dataframe tbody tr th {\n",
       "        vertical-align: top;\n",
       "    }\n",
       "\n",
       "    .dataframe thead th {\n",
       "        text-align: right;\n",
       "    }\n",
       "</style>\n",
       "<table border=\"1\" class=\"dataframe\">\n",
       "  <thead>\n",
       "    <tr style=\"text-align: right;\">\n",
       "      <th>Price</th>\n",
       "      <th>Marcopolo</th>\n",
       "      <th>Weg</th>\n",
       "      <th>Petrobras</th>\n",
       "      <th>BTG logística</th>\n",
       "      <th>Magalu</th>\n",
       "      <th>Bovespa</th>\n",
       "    </tr>\n",
       "    <tr>\n",
       "      <th>Date</th>\n",
       "      <th></th>\n",
       "      <th></th>\n",
       "      <th></th>\n",
       "      <th></th>\n",
       "      <th></th>\n",
       "      <th></th>\n",
       "    </tr>\n",
       "  </thead>\n",
       "  <tbody>\n",
       "    <tr>\n",
       "      <th>2019-11-25 00:00:00+00:00</th>\n",
       "      <td>2.931275</td>\n",
       "      <td>13.557370</td>\n",
       "      <td>10.123461</td>\n",
       "      <td>80.278259</td>\n",
       "      <td>103.209900</td>\n",
       "      <td>12.978880</td>\n",
       "    </tr>\n",
       "    <tr>\n",
       "      <th>2019-11-26 00:00:00+00:00</th>\n",
       "      <td>2.842448</td>\n",
       "      <td>13.338404</td>\n",
       "      <td>9.939585</td>\n",
       "      <td>80.495445</td>\n",
       "      <td>100.274361</td>\n",
       "      <td>12.633825</td>\n",
       "    </tr>\n",
       "    <tr>\n",
       "      <th>2019-11-27 00:00:00+00:00</th>\n",
       "      <td>2.866673</td>\n",
       "      <td>13.534077</td>\n",
       "      <td>9.987257</td>\n",
       "      <td>80.293777</td>\n",
       "      <td>106.238640</td>\n",
       "      <td>12.891934</td>\n",
       "    </tr>\n",
       "    <tr>\n",
       "      <th>2019-11-28 00:00:00+00:00</th>\n",
       "      <td>2.866673</td>\n",
       "      <td>13.711117</td>\n",
       "      <td>10.055358</td>\n",
       "      <td>80.262764</td>\n",
       "      <td>106.238640</td>\n",
       "      <td>13.082121</td>\n",
       "    </tr>\n",
       "    <tr>\n",
       "      <th>2019-11-29 00:00:00+00:00</th>\n",
       "      <td>2.882823</td>\n",
       "      <td>14.172345</td>\n",
       "      <td>9.925963</td>\n",
       "      <td>80.185188</td>\n",
       "      <td>104.910645</td>\n",
       "      <td>12.965291</td>\n",
       "    </tr>\n",
       "    <tr>\n",
       "      <th>...</th>\n",
       "      <td>...</td>\n",
       "      <td>...</td>\n",
       "      <td>...</td>\n",
       "      <td>...</td>\n",
       "      <td>...</td>\n",
       "      <td>...</td>\n",
       "    </tr>\n",
       "    <tr>\n",
       "      <th>2024-11-13 00:00:00+00:00</th>\n",
       "      <td>9.320000</td>\n",
       "      <td>54.700001</td>\n",
       "      <td>36.880001</td>\n",
       "      <td>95.627213</td>\n",
       "      <td>9.260000</td>\n",
       "      <td>10.230000</td>\n",
       "    </tr>\n",
       "    <tr>\n",
       "      <th>2024-11-14 00:00:00+00:00</th>\n",
       "      <td>9.420000</td>\n",
       "      <td>54.349998</td>\n",
       "      <td>37.270000</td>\n",
       "      <td>96.520004</td>\n",
       "      <td>9.000000</td>\n",
       "      <td>10.270000</td>\n",
       "    </tr>\n",
       "    <tr>\n",
       "      <th>2024-11-18 00:00:00+00:00</th>\n",
       "      <td>9.570000</td>\n",
       "      <td>54.000000</td>\n",
       "      <td>38.200001</td>\n",
       "      <td>96.430000</td>\n",
       "      <td>9.230000</td>\n",
       "      <td>10.000000</td>\n",
       "    </tr>\n",
       "    <tr>\n",
       "      <th>2024-11-19 00:00:00+00:00</th>\n",
       "      <td>9.590000</td>\n",
       "      <td>54.130001</td>\n",
       "      <td>37.799999</td>\n",
       "      <td>97.099998</td>\n",
       "      <td>9.380000</td>\n",
       "      <td>10.020000</td>\n",
       "    </tr>\n",
       "    <tr>\n",
       "      <th>2024-11-21 00:00:00+00:00</th>\n",
       "      <td>9.560000</td>\n",
       "      <td>53.730000</td>\n",
       "      <td>37.910000</td>\n",
       "      <td>96.430000</td>\n",
       "      <td>9.140000</td>\n",
       "      <td>9.820000</td>\n",
       "    </tr>\n",
       "  </tbody>\n",
       "</table>\n",
       "<p>1243 rows × 6 columns</p>\n",
       "</div>"
      ],
      "text/plain": [
       "Price                      Marcopolo        Weg  Petrobras  BTG logística  \\\n",
       "Date                                                                        \n",
       "2019-11-25 00:00:00+00:00   2.931275  13.557370  10.123461      80.278259   \n",
       "2019-11-26 00:00:00+00:00   2.842448  13.338404   9.939585      80.495445   \n",
       "2019-11-27 00:00:00+00:00   2.866673  13.534077   9.987257      80.293777   \n",
       "2019-11-28 00:00:00+00:00   2.866673  13.711117  10.055358      80.262764   \n",
       "2019-11-29 00:00:00+00:00   2.882823  14.172345   9.925963      80.185188   \n",
       "...                              ...        ...        ...            ...   \n",
       "2024-11-13 00:00:00+00:00   9.320000  54.700001  36.880001      95.627213   \n",
       "2024-11-14 00:00:00+00:00   9.420000  54.349998  37.270000      96.520004   \n",
       "2024-11-18 00:00:00+00:00   9.570000  54.000000  38.200001      96.430000   \n",
       "2024-11-19 00:00:00+00:00   9.590000  54.130001  37.799999      97.099998   \n",
       "2024-11-21 00:00:00+00:00   9.560000  53.730000  37.910000      96.430000   \n",
       "\n",
       "Price                          Magalu    Bovespa  \n",
       "Date                                              \n",
       "2019-11-25 00:00:00+00:00  103.209900  12.978880  \n",
       "2019-11-26 00:00:00+00:00  100.274361  12.633825  \n",
       "2019-11-27 00:00:00+00:00  106.238640  12.891934  \n",
       "2019-11-28 00:00:00+00:00  106.238640  13.082121  \n",
       "2019-11-29 00:00:00+00:00  104.910645  12.965291  \n",
       "...                               ...        ...  \n",
       "2024-11-13 00:00:00+00:00    9.260000  10.230000  \n",
       "2024-11-14 00:00:00+00:00    9.000000  10.270000  \n",
       "2024-11-18 00:00:00+00:00    9.230000  10.000000  \n",
       "2024-11-19 00:00:00+00:00    9.380000  10.020000  \n",
       "2024-11-21 00:00:00+00:00    9.140000   9.820000  \n",
       "\n",
       "[1243 rows x 6 columns]"
      ]
     },
     "execution_count": 20,
     "metadata": {},
     "output_type": "execute_result"
    }
   ],
   "source": [
    "df_adj_close = df_adj_close.set_index('Date')\n",
    "df_adj_close.columns = df_adj_close.columns.get_level_values(0)\n",
    "df_adj_close"
   ]
  },
  {
   "cell_type": "markdown",
   "metadata": {},
   "source": [
    "# Retornos Anuais"
   ]
  },
  {
   "cell_type": "code",
   "execution_count": 36,
   "metadata": {},
   "outputs": [
    {
     "data": {
      "text/html": [
       "<div>\n",
       "<style scoped>\n",
       "    .dataframe tbody tr th:only-of-type {\n",
       "        vertical-align: middle;\n",
       "    }\n",
       "\n",
       "    .dataframe tbody tr th {\n",
       "        vertical-align: top;\n",
       "    }\n",
       "\n",
       "    .dataframe thead th {\n",
       "        text-align: right;\n",
       "    }\n",
       "</style>\n",
       "<table border=\"1\" class=\"dataframe\">\n",
       "  <thead>\n",
       "    <tr style=\"text-align: right;\">\n",
       "      <th></th>\n",
       "      <th>Marcopolo Retorno</th>\n",
       "      <th>Weg Retorno</th>\n",
       "      <th>Petrobras Retorno</th>\n",
       "      <th>BTG logística Retorno</th>\n",
       "      <th>Magalu Retorno</th>\n",
       "      <th>Bovespa Retorno</th>\n",
       "    </tr>\n",
       "    <tr>\n",
       "      <th>Ano</th>\n",
       "      <th></th>\n",
       "      <th></th>\n",
       "      <th></th>\n",
       "      <th></th>\n",
       "      <th></th>\n",
       "      <th></th>\n",
       "    </tr>\n",
       "  </thead>\n",
       "  <tbody>\n",
       "    <tr>\n",
       "      <th>2019</th>\n",
       "      <td>21.484460</td>\n",
       "      <td>17.597702</td>\n",
       "      <td>2.876758</td>\n",
       "      <td>16.813123</td>\n",
       "      <td>7.394666</td>\n",
       "      <td>-10.589581</td>\n",
       "    </tr>\n",
       "    <tr>\n",
       "      <th>2020</th>\n",
       "      <td>-43.295894</td>\n",
       "      <td>77.314408</td>\n",
       "      <td>-7.996820</td>\n",
       "      <td>-8.917675</td>\n",
       "      <td>70.680797</td>\n",
       "      <td>34.221031</td>\n",
       "    </tr>\n",
       "    <tr>\n",
       "      <th>2021</th>\n",
       "      <td>8.059202</td>\n",
       "      <td>-11.193801</td>\n",
       "      <td>19.124077</td>\n",
       "      <td>-4.176037</td>\n",
       "      <td>-124.926413</td>\n",
       "      <td>-54.783045</td>\n",
       "    </tr>\n",
       "    <tr>\n",
       "      <th>2022</th>\n",
       "      <td>-0.009592</td>\n",
       "      <td>20.223715</td>\n",
       "      <td>29.937911</td>\n",
       "      <td>1.444731</td>\n",
       "      <td>-89.713026</td>\n",
       "      <td>24.094890</td>\n",
       "    </tr>\n",
       "    <tr>\n",
       "      <th>2023</th>\n",
       "      <td>102.070988</td>\n",
       "      <td>-1.560298</td>\n",
       "      <td>74.373998</td>\n",
       "      <td>15.521953</td>\n",
       "      <td>-18.154967</td>\n",
       "      <td>20.645921</td>\n",
       "    </tr>\n",
       "    <tr>\n",
       "      <th>2024</th>\n",
       "      <td>32.486419</td>\n",
       "      <td>40.102471</td>\n",
       "      <td>13.022453</td>\n",
       "      <td>1.357855</td>\n",
       "      <td>-74.090143</td>\n",
       "      <td>-34.035621</td>\n",
       "    </tr>\n",
       "  </tbody>\n",
       "</table>\n",
       "</div>"
      ],
      "text/plain": [
       "      Marcopolo Retorno  Weg Retorno  Petrobras Retorno  \\\n",
       "Ano                                                       \n",
       "2019          21.484460    17.597702           2.876758   \n",
       "2020         -43.295894    77.314408          -7.996820   \n",
       "2021           8.059202   -11.193801          19.124077   \n",
       "2022          -0.009592    20.223715          29.937911   \n",
       "2023         102.070988    -1.560298          74.373998   \n",
       "2024          32.486419    40.102471          13.022453   \n",
       "\n",
       "      BTG logística Retorno  Magalu Retorno  Bovespa Retorno  \n",
       "Ano                                                           \n",
       "2019              16.813123        7.394666       -10.589581  \n",
       "2020              -8.917675       70.680797        34.221031  \n",
       "2021              -4.176037     -124.926413       -54.783045  \n",
       "2022               1.444731      -89.713026        24.094890  \n",
       "2023              15.521953      -18.154967        20.645921  \n",
       "2024               1.357855      -74.090143       -34.035621  "
      ]
     },
     "execution_count": 36,
     "metadata": {},
     "output_type": "execute_result"
    }
   ],
   "source": [
    "# retornos anuais\n",
    "grouped = df_adj_close.groupby(df_adj_close.index.year).agg({col: ['first', 'last'] for col in company_names})\n",
    "for col in company_names:\n",
    "    grouped[(col, 'Retorno')] = np.log(grouped[(col, 'last')] / grouped[(col, 'first')])*100\n",
    "\n",
    "# Flatten MultiIndex columns for easier reading\n",
    "grouped.columns = [' '.join(col).strip() for col in grouped.columns.values]\n",
    "grouped = grouped.rename_axis('Ano')\n",
    "\n",
    "log_return_columns = [col for col in grouped.columns if 'Retorno' in col]\n",
    "log_returns = grouped[log_return_columns]\n",
    "log_returns"
   ]
  },
  {
   "cell_type": "markdown",
   "metadata": {},
   "source": [
    "# Retorno médio anual"
   ]
  },
  {
   "cell_type": "code",
   "execution_count": 40,
   "metadata": {},
   "outputs": [
    {
     "name": "stdout",
     "output_type": "stream",
     "text": [
      "Marcopolo Retorno: 20.133\n",
      "Weg Retorno: 23.747\n",
      "Petrobras Retorno: 21.89\n",
      "BTG logística Retorno: 3.674\n",
      "Magalu Retorno: -38.135\n",
      "Bovespa Retorno: -3.408\n"
     ]
    }
   ],
   "source": [
    "for column in log_returns.columns:\n",
    "    print(f'{column}: {log_returns[column].mean().round(3)}')"
   ]
  },
  {
   "cell_type": "markdown",
   "metadata": {},
   "source": [
    "# Variância do retorno"
   ]
  },
  {
   "cell_type": "code",
   "execution_count": 49,
   "metadata": {},
   "outputs": [
    {
     "name": "stdout",
     "output_type": "stream",
     "text": [
      "Marcopolo Retorno: 2288.598\n",
      "Weg Retorno: 1009.703\n",
      "Petrobras Retorno: 832.07\n",
      "BTG logística Retorno: 108.704\n",
      "Magalu Retorno: 5159.769\n",
      "Bovespa Retorno: 1275.993\n"
     ]
    }
   ],
   "source": [
    "for column in log_returns.columns:\n",
    "    print(f'{column}: {log_returns[column].var().round(3)}')"
   ]
  },
  {
   "cell_type": "markdown",
   "metadata": {},
   "source": [
    "# Desvio Padrão"
   ]
  },
  {
   "cell_type": "code",
   "execution_count": 50,
   "metadata": {},
   "outputs": [
    {
     "name": "stdout",
     "output_type": "stream",
     "text": [
      "Marcopolo Retorno: 47.839\n",
      "Weg Retorno: 31.776\n",
      "Petrobras Retorno: 28.846\n",
      "BTG logística Retorno: 10.426\n",
      "Magalu Retorno: 71.832\n",
      "Bovespa Retorno: 35.721\n"
     ]
    }
   ],
   "source": [
    "for column in log_returns.columns:\n",
    "    print(f'{column}: {(log_returns[column].var()**0.5).round(3)}')"
   ]
  },
  {
   "cell_type": "markdown",
   "metadata": {},
   "source": [
    "# Coeficiente de Variação"
   ]
  },
  {
   "cell_type": "code",
   "execution_count": 52,
   "metadata": {},
   "outputs": [
    {
     "name": "stdout",
     "output_type": "stream",
     "text": [
      "Marcopolo Retorno: 237.621\n",
      "Weg Retorno: 133.808\n",
      "Petrobras Retorno: 131.777\n",
      "BTG logística Retorno: 283.781\n",
      "Magalu Retorno: -188.362\n",
      "Bovespa Retorno: -1048.234\n"
     ]
    }
   ],
   "source": [
    "for column in log_returns.columns:\n",
    "    mean = log_returns[column].mean()\n",
    "    std_dev = log_returns[column].std()\n",
    "    cv = (std_dev / mean) * 100\n",
    "    print(f'{column}: {cv.round(3)}')"
   ]
  },
  {
   "cell_type": "markdown",
   "metadata": {},
   "source": [
    "## Risco Médio Anual"
   ]
  },
  {
   "cell_type": "code",
   "execution_count": 59,
   "metadata": {},
   "outputs": [
    {
     "data": {
      "text/html": [
       "<div>\n",
       "<style scoped>\n",
       "    .dataframe tbody tr th:only-of-type {\n",
       "        vertical-align: middle;\n",
       "    }\n",
       "\n",
       "    .dataframe tbody tr th {\n",
       "        vertical-align: top;\n",
       "    }\n",
       "\n",
       "    .dataframe thead th {\n",
       "        text-align: right;\n",
       "    }\n",
       "</style>\n",
       "<table border=\"1\" class=\"dataframe\">\n",
       "  <thead>\n",
       "    <tr style=\"text-align: right;\">\n",
       "      <th>Price</th>\n",
       "      <th>Marcopolo</th>\n",
       "      <th>Weg</th>\n",
       "      <th>Petrobras</th>\n",
       "      <th>BTG logística</th>\n",
       "      <th>Magalu</th>\n",
       "      <th>Bovespa</th>\n",
       "    </tr>\n",
       "    <tr>\n",
       "      <th>Date</th>\n",
       "      <th></th>\n",
       "      <th></th>\n",
       "      <th></th>\n",
       "      <th></th>\n",
       "      <th></th>\n",
       "      <th></th>\n",
       "    </tr>\n",
       "  </thead>\n",
       "  <tbody>\n",
       "    <tr>\n",
       "      <th>2019-11-25 00:00:00+00:00</th>\n",
       "      <td>NaN</td>\n",
       "      <td>NaN</td>\n",
       "      <td>NaN</td>\n",
       "      <td>NaN</td>\n",
       "      <td>NaN</td>\n",
       "      <td>NaN</td>\n",
       "    </tr>\n",
       "    <tr>\n",
       "      <th>2019-11-26 00:00:00+00:00</th>\n",
       "      <td>-0.030303</td>\n",
       "      <td>-0.016151</td>\n",
       "      <td>-0.018163</td>\n",
       "      <td>0.002705</td>\n",
       "      <td>-0.028442</td>\n",
       "      <td>-0.026586</td>\n",
       "    </tr>\n",
       "    <tr>\n",
       "      <th>2019-11-27 00:00:00+00:00</th>\n",
       "      <td>0.008523</td>\n",
       "      <td>0.014670</td>\n",
       "      <td>0.004796</td>\n",
       "      <td>-0.002505</td>\n",
       "      <td>0.059480</td>\n",
       "      <td>0.020430</td>\n",
       "    </tr>\n",
       "    <tr>\n",
       "      <th>2019-11-28 00:00:00+00:00</th>\n",
       "      <td>0.000000</td>\n",
       "      <td>0.013081</td>\n",
       "      <td>0.006819</td>\n",
       "      <td>-0.000386</td>\n",
       "      <td>0.000000</td>\n",
       "      <td>0.014752</td>\n",
       "    </tr>\n",
       "    <tr>\n",
       "      <th>2019-11-29 00:00:00+00:00</th>\n",
       "      <td>0.005634</td>\n",
       "      <td>0.033639</td>\n",
       "      <td>-0.012868</td>\n",
       "      <td>-0.000967</td>\n",
       "      <td>-0.012500</td>\n",
       "      <td>-0.008930</td>\n",
       "    </tr>\n",
       "    <tr>\n",
       "      <th>...</th>\n",
       "      <td>...</td>\n",
       "      <td>...</td>\n",
       "      <td>...</td>\n",
       "      <td>...</td>\n",
       "      <td>...</td>\n",
       "      <td>...</td>\n",
       "    </tr>\n",
       "    <tr>\n",
       "      <th>2024-11-13 00:00:00+00:00</th>\n",
       "      <td>-0.013757</td>\n",
       "      <td>-0.012992</td>\n",
       "      <td>-0.001354</td>\n",
       "      <td>-0.006390</td>\n",
       "      <td>0.003250</td>\n",
       "      <td>-0.007760</td>\n",
       "    </tr>\n",
       "    <tr>\n",
       "      <th>2024-11-14 00:00:00+00:00</th>\n",
       "      <td>0.010730</td>\n",
       "      <td>-0.006399</td>\n",
       "      <td>0.010575</td>\n",
       "      <td>0.009336</td>\n",
       "      <td>-0.028078</td>\n",
       "      <td>0.003910</td>\n",
       "    </tr>\n",
       "    <tr>\n",
       "      <th>2024-11-18 00:00:00+00:00</th>\n",
       "      <td>0.015924</td>\n",
       "      <td>-0.006440</td>\n",
       "      <td>0.024953</td>\n",
       "      <td>-0.000932</td>\n",
       "      <td>0.025556</td>\n",
       "      <td>-0.026290</td>\n",
       "    </tr>\n",
       "    <tr>\n",
       "      <th>2024-11-19 00:00:00+00:00</th>\n",
       "      <td>0.002090</td>\n",
       "      <td>0.002407</td>\n",
       "      <td>-0.010471</td>\n",
       "      <td>0.006948</td>\n",
       "      <td>0.016251</td>\n",
       "      <td>0.002000</td>\n",
       "    </tr>\n",
       "    <tr>\n",
       "      <th>2024-11-21 00:00:00+00:00</th>\n",
       "      <td>-0.003128</td>\n",
       "      <td>-0.007390</td>\n",
       "      <td>0.002910</td>\n",
       "      <td>-0.006900</td>\n",
       "      <td>-0.025586</td>\n",
       "      <td>-0.019960</td>\n",
       "    </tr>\n",
       "  </tbody>\n",
       "</table>\n",
       "<p>1243 rows × 6 columns</p>\n",
       "</div>"
      ],
      "text/plain": [
       "Price                      Marcopolo       Weg  Petrobras  BTG logística  \\\n",
       "Date                                                                       \n",
       "2019-11-25 00:00:00+00:00        NaN       NaN        NaN            NaN   \n",
       "2019-11-26 00:00:00+00:00  -0.030303 -0.016151  -0.018163       0.002705   \n",
       "2019-11-27 00:00:00+00:00   0.008523  0.014670   0.004796      -0.002505   \n",
       "2019-11-28 00:00:00+00:00   0.000000  0.013081   0.006819      -0.000386   \n",
       "2019-11-29 00:00:00+00:00   0.005634  0.033639  -0.012868      -0.000967   \n",
       "...                              ...       ...        ...            ...   \n",
       "2024-11-13 00:00:00+00:00  -0.013757 -0.012992  -0.001354      -0.006390   \n",
       "2024-11-14 00:00:00+00:00   0.010730 -0.006399   0.010575       0.009336   \n",
       "2024-11-18 00:00:00+00:00   0.015924 -0.006440   0.024953      -0.000932   \n",
       "2024-11-19 00:00:00+00:00   0.002090  0.002407  -0.010471       0.006948   \n",
       "2024-11-21 00:00:00+00:00  -0.003128 -0.007390   0.002910      -0.006900   \n",
       "\n",
       "Price                        Magalu   Bovespa  \n",
       "Date                                           \n",
       "2019-11-25 00:00:00+00:00       NaN       NaN  \n",
       "2019-11-26 00:00:00+00:00 -0.028442 -0.026586  \n",
       "2019-11-27 00:00:00+00:00  0.059480  0.020430  \n",
       "2019-11-28 00:00:00+00:00  0.000000  0.014752  \n",
       "2019-11-29 00:00:00+00:00 -0.012500 -0.008930  \n",
       "...                             ...       ...  \n",
       "2024-11-13 00:00:00+00:00  0.003250 -0.007760  \n",
       "2024-11-14 00:00:00+00:00 -0.028078  0.003910  \n",
       "2024-11-18 00:00:00+00:00  0.025556 -0.026290  \n",
       "2024-11-19 00:00:00+00:00  0.016251  0.002000  \n",
       "2024-11-21 00:00:00+00:00 -0.025586 -0.019960  \n",
       "\n",
       "[1243 rows x 6 columns]"
      ]
     },
     "execution_count": 59,
     "metadata": {},
     "output_type": "execute_result"
    }
   ],
   "source": [
    "df = df_adj_close.copy()\n",
    "df = df.pct_change()\n",
    "df"
   ]
  },
  {
   "cell_type": "code",
   "execution_count": 75,
   "metadata": {},
   "outputs": [
    {
     "data": {
      "text/plain": [
       "Price\n",
       "Marcopolo        0.453427\n",
       "Weg              0.379164\n",
       "Petrobras        0.444355\n",
       "BTG logística    0.170226\n",
       "Magalu           0.692446\n",
       "Bovespa          0.412816\n",
       "dtype: float64"
      ]
     },
     "execution_count": 75,
     "metadata": {},
     "output_type": "execute_result"
    }
   ],
   "source": [
    "df.std()*math.sqrt(250)"
   ]
  },
  {
   "cell_type": "markdown",
   "metadata": {},
   "source": [
    "# Correlação"
   ]
  },
  {
   "cell_type": "code",
   "execution_count": 69,
   "metadata": {},
   "outputs": [
    {
     "data": {
      "text/html": [
       "<div>\n",
       "<style scoped>\n",
       "    .dataframe tbody tr th:only-of-type {\n",
       "        vertical-align: middle;\n",
       "    }\n",
       "\n",
       "    .dataframe tbody tr th {\n",
       "        vertical-align: top;\n",
       "    }\n",
       "\n",
       "    .dataframe thead th {\n",
       "        text-align: right;\n",
       "    }\n",
       "</style>\n",
       "<table border=\"1\" class=\"dataframe\">\n",
       "  <thead>\n",
       "    <tr style=\"text-align: right;\">\n",
       "      <th>Price</th>\n",
       "      <th>Marcopolo</th>\n",
       "      <th>Weg</th>\n",
       "      <th>Petrobras</th>\n",
       "      <th>BTG logística</th>\n",
       "      <th>Magalu</th>\n",
       "      <th>Bovespa</th>\n",
       "    </tr>\n",
       "    <tr>\n",
       "      <th>Price</th>\n",
       "      <th></th>\n",
       "      <th></th>\n",
       "      <th></th>\n",
       "      <th></th>\n",
       "      <th></th>\n",
       "      <th></th>\n",
       "    </tr>\n",
       "  </thead>\n",
       "  <tbody>\n",
       "    <tr>\n",
       "      <th>Marcopolo</th>\n",
       "      <td>1.000000</td>\n",
       "      <td>0.312235</td>\n",
       "      <td>0.356087</td>\n",
       "      <td>0.255759</td>\n",
       "      <td>0.340169</td>\n",
       "      <td>0.429444</td>\n",
       "    </tr>\n",
       "    <tr>\n",
       "      <th>Weg</th>\n",
       "      <td>0.312235</td>\n",
       "      <td>1.000000</td>\n",
       "      <td>0.321027</td>\n",
       "      <td>0.181038</td>\n",
       "      <td>0.303617</td>\n",
       "      <td>0.434647</td>\n",
       "    </tr>\n",
       "    <tr>\n",
       "      <th>Petrobras</th>\n",
       "      <td>0.356087</td>\n",
       "      <td>0.321027</td>\n",
       "      <td>1.000000</td>\n",
       "      <td>0.281252</td>\n",
       "      <td>0.275226</td>\n",
       "      <td>0.411550</td>\n",
       "    </tr>\n",
       "    <tr>\n",
       "      <th>BTG logística</th>\n",
       "      <td>0.255759</td>\n",
       "      <td>0.181038</td>\n",
       "      <td>0.281252</td>\n",
       "      <td>1.000000</td>\n",
       "      <td>0.188760</td>\n",
       "      <td>0.228945</td>\n",
       "    </tr>\n",
       "    <tr>\n",
       "      <th>Magalu</th>\n",
       "      <td>0.340169</td>\n",
       "      <td>0.303617</td>\n",
       "      <td>0.275226</td>\n",
       "      <td>0.188760</td>\n",
       "      <td>1.000000</td>\n",
       "      <td>0.520703</td>\n",
       "    </tr>\n",
       "    <tr>\n",
       "      <th>Bovespa</th>\n",
       "      <td>0.429444</td>\n",
       "      <td>0.434647</td>\n",
       "      <td>0.411550</td>\n",
       "      <td>0.228945</td>\n",
       "      <td>0.520703</td>\n",
       "      <td>1.000000</td>\n",
       "    </tr>\n",
       "  </tbody>\n",
       "</table>\n",
       "</div>"
      ],
      "text/plain": [
       "Price          Marcopolo       Weg  Petrobras  BTG logística    Magalu  \\\n",
       "Price                                                                    \n",
       "Marcopolo       1.000000  0.312235   0.356087       0.255759  0.340169   \n",
       "Weg             0.312235  1.000000   0.321027       0.181038  0.303617   \n",
       "Petrobras       0.356087  0.321027   1.000000       0.281252  0.275226   \n",
       "BTG logística   0.255759  0.181038   0.281252       1.000000  0.188760   \n",
       "Magalu          0.340169  0.303617   0.275226       0.188760  1.000000   \n",
       "Bovespa         0.429444  0.434647   0.411550       0.228945  0.520703   \n",
       "\n",
       "Price           Bovespa  \n",
       "Price                    \n",
       "Marcopolo      0.429444  \n",
       "Weg            0.434647  \n",
       "Petrobras      0.411550  \n",
       "BTG logística  0.228945  \n",
       "Magalu         0.520703  \n",
       "Bovespa        1.000000  "
      ]
     },
     "execution_count": 69,
     "metadata": {},
     "output_type": "execute_result"
    }
   ],
   "source": [
    "df.corr()"
   ]
  },
  {
   "cell_type": "markdown",
   "metadata": {},
   "source": [
    "# Risco"
   ]
  },
  {
   "cell_type": "code",
   "execution_count": 83,
   "metadata": {},
   "outputs": [
    {
     "data": {
      "text/plain": [
       "np.float64(0.072)"
      ]
     },
     "execution_count": 83,
     "metadata": {},
     "output_type": "execute_result"
    }
   ],
   "source": [
    "pesos = np.array([0.2, 0.2, 0.2, 0.2, 0.1, 0.1])\n",
    "var_potfolio = np.dot(pesos, np.dot(df.cov()*250, pesos))\n",
    "round(var_potfolio,3)"
   ]
  },
  {
   "cell_type": "markdown",
   "metadata": {},
   "source": [
    "# Votalidade"
   ]
  },
  {
   "cell_type": "code",
   "execution_count": 82,
   "metadata": {},
   "outputs": [
    {
     "data": {
      "text/plain": [
       "0.269"
      ]
     },
     "execution_count": 82,
     "metadata": {},
     "output_type": "execute_result"
    }
   ],
   "source": [
    "vot = math.sqrt(var_potfolio)\n",
    "round(vot,3)"
   ]
  },
  {
   "cell_type": "markdown",
   "metadata": {},
   "source": [
    "# Risco Não Sistemático"
   ]
  },
  {
   "cell_type": "code",
   "execution_count": 78,
   "metadata": {},
   "outputs": [
    {
     "data": {
      "text/plain": [
       "np.float64(-0.108)"
      ]
     },
     "execution_count": 78,
     "metadata": {},
     "output_type": "execute_result"
    }
   ],
   "source": [
    "r_ns = var_potfolio - np.sum((df.var()*250)*pesos)\n",
    "r_ns.round(3)"
   ]
  }
 ],
 "metadata": {
  "kernelspec": {
   "display_name": "Python 3",
   "language": "python",
   "name": "python3"
  },
  "language_info": {
   "codemirror_mode": {
    "name": "ipython",
    "version": 3
   },
   "file_extension": ".py",
   "mimetype": "text/x-python",
   "name": "python",
   "nbconvert_exporter": "python",
   "pygments_lexer": "ipython3",
   "version": "3.12.7"
  }
 },
 "nbformat": 4,
 "nbformat_minor": 2
}
